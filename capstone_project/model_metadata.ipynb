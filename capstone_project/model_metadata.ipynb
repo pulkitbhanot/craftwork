{
 "cells": [
  {
   "cell_type": "markdown",
   "id": "dd2e2890",
   "metadata": {},
   "source": [
    "This file is used to generate metadata for the tensorflow model."
   ]
  },
  {
   "cell_type": "code",
   "execution_count": 1,
   "id": "f42abe00",
   "metadata": {},
   "outputs": [
    {
     "name": "stdout",
     "output_type": "stream",
     "text": [
      "Requirement already satisfied: tflite-support in /opt/anaconda3/lib/python3.9/site-packages (0.1.0a1)\r\n",
      "Requirement already satisfied: pybind11>=2.4 in /opt/anaconda3/lib/python3.9/site-packages (from tflite-support) (2.11.1)\r\n",
      "Requirement already satisfied: absl-py>=0.7.0 in /opt/anaconda3/lib/python3.9/site-packages (from tflite-support) (2.0.0)\r\n",
      "Requirement already satisfied: numpy in /Users/pulkit/.local/lib/python3.9/site-packages (from tflite-support) (1.26.1)\r\n"
     ]
    }
   ],
   "source": [
    "# install the dependencies\n",
    "!pip install tflite-support"
   ]
  },
  {
   "cell_type": "code",
   "execution_count": 2,
   "id": "078c99c8",
   "metadata": {},
   "outputs": [],
   "source": [
    "# import the requires modules\n",
    "import os\n",
    "from tflite_support import flatbuffers\n",
    "from tflite_support import metadata as _metadata\n",
    "from tflite_support import metadata_schema_py_generated as _metadata_fb\n"
   ]
  },
  {
   "cell_type": "code",
   "execution_count": 3,
   "id": "9be89d22",
   "metadata": {},
   "outputs": [],
   "source": [
    "# specify the required variables, these need to be kept in sync with capstone.ipynb\n",
    "IMG_WIDTH = 250\n",
    "IMG_HEIGHT = 250\n",
    "\n",
    "class_names = ['1','2','3','4','5']\n",
    "class_names_labels = ['Water', 'Tea Leaves', 'Boiling tea leaves', 'Tea with Milk', 'Boiling tea']\n",
    "\n",
    "code_loc = 'code/final/kraftwerk/capstone_project'\n",
    "data_path = fr'{os.getenv(\"HOME\")}/{code_loc}/data/classes'\n",
    "data_path_unknown = fr'{os.getenv(\"HOME\")}/{code_loc}/data/unclassified'\n",
    "tflite_model_path = fr'{os.getenv(\"HOME\")}/{code_loc}/assets/model.tflite'\n",
    "export_model_path = fr'{os.getenv(\"HOME\")}/{code_loc}/model'\n",
    "assets_path = fr'{os.getenv(\"HOME\")}/{code_loc}/assets/'\n",
    "export_json_file = os.path.join(assets_path, os.path.splitext(os.path.basename(export_model_path))[0] + \".json\")\n",
    "labelmap_file = fr'{os.getenv(\"HOME\")}/{code_loc}/assets/labelmap.pbtxt'\n"
   ]
  },
  {
   "cell_type": "code",
   "execution_count": 4,
   "id": "12db5492",
   "metadata": {},
   "outputs": [],
   "source": [
    "\n",
    "\"\"\"Creates the metadata for an image classifier.\"\"\"\n",
    "\n",
    "# Creates model info.\n",
    "model_meta = _metadata_fb.ModelMetadataT()\n",
    "model_meta.name = \"Custom Image classifier 250x250 Object Detector\"\n",
    "model_meta.description = (\"Detects different steps in the process of Milk Tea making process.\")\n",
    "model_meta.version = \"v1\"\n",
    "model_meta.author = \"Pulkit Bhanot\"\n",
    "model_meta.license = (\"Apache License. Version 2.0 \"\n",
    "                      \"http://www.apache.org/licenses/LICENSE-2.0.\")"
   ]
  },
  {
   "cell_type": "code",
   "execution_count": 5,
   "id": "a117769d",
   "metadata": {},
   "outputs": [],
   "source": [
    "# Creates input info.\n",
    "input_meta = _metadata_fb.TensorMetadataT()\n",
    "\n",
    "# Creates output info.\n",
    "output_meta = _metadata_fb.TensorMetadataT()\n"
   ]
  },
  {
   "cell_type": "code",
   "execution_count": 6,
   "id": "746285bb",
   "metadata": {},
   "outputs": [],
   "source": [
    "input_meta.name = \"image\"\n",
    "input_meta.description = (\n",
    "    \"Input image to be classified. The expected image is {0} x {1}, with \"\n",
    "    \"three channels (red, blue, and green) per pixel. Each value in the \"\n",
    "    \"tensor is a single byte between 0 and 255.\".format(IMG_WIDTH, IMG_HEIGHT))\n",
    "input_meta.content = _metadata_fb.ContentT()\n",
    "input_meta.content.contentProperties = _metadata_fb.ImagePropertiesT()\n",
    "input_meta.content.contentProperties.colorSpace = (\n",
    "    _metadata_fb.ColorSpaceType.RGB)\n",
    "input_meta.content.contentPropertiesType = (\n",
    "    _metadata_fb.ContentProperties.ImageProperties)"
   ]
  },
  {
   "cell_type": "code",
   "execution_count": 7,
   "id": "6eacace2",
   "metadata": {},
   "outputs": [],
   "source": [
    "output_meta = _metadata_fb.TensorMetadataT()\n",
    "output_meta.name = \"probability\"\n",
    "output_meta.description = \"Probabilities of the 5 labels respectively.\"\n",
    "output_meta.content = _metadata_fb.ContentT()\n",
    "output_meta.content.content_properties = _metadata_fb.FeaturePropertiesT()\n",
    "output_meta.content.contentPropertiesType = (\n",
    "    _metadata_fb.ContentProperties.FeatureProperties)\n",
    "output_stats = _metadata_fb.StatsT()\n",
    "output_stats.max = [1.0]\n",
    "output_stats.min = [0.0]\n",
    "output_meta.stats = output_stats\n",
    "label_file = _metadata_fb.AssociatedFileT()\n",
    "label_file.name = os.path.basename(labelmap_file)\n",
    "label_file.description = \"Labels for objects that the model can recognize.\"\n",
    "label_file.type = _metadata_fb.AssociatedFileType.TENSOR_AXIS_LABELS\n",
    "output_meta.associatedFiles = [label_file]\n"
   ]
  },
  {
   "cell_type": "code",
   "execution_count": 8,
   "id": "b8184233",
   "metadata": {},
   "outputs": [],
   "source": [
    "# Creates subgraph info.\n",
    "subgraph = _metadata_fb.SubGraphMetadataT()\n",
    "subgraph.inputTensorMetadata = [input_meta]\n",
    "subgraph.outputTensorMetadata = [output_meta]\n",
    "model_meta.subgraphMetadata = [subgraph]\n",
    "\n",
    "b = flatbuffers.Builder(0)\n",
    "b.Finish(\n",
    "    model_meta.Pack(b),\n",
    "    _metadata.MetadataPopulator.METADATA_FILE_IDENTIFIER)\n",
    "metadata_buf = b.Output()"
   ]
  },
  {
   "cell_type": "code",
   "execution_count": 9,
   "id": "1f9651b4",
   "metadata": {},
   "outputs": [],
   "source": [
    "populator = _metadata.MetadataPopulator.with_model_file(tflite_model_path)\n",
    "populator.load_metadata_buffer(metadata_buf)\n",
    "populator.load_associated_files([labelmap_file])\n",
    "populator.populate()"
   ]
  },
  {
   "cell_type": "code",
   "execution_count": 10,
   "id": "291631c7",
   "metadata": {},
   "outputs": [],
   "source": [
    "displayer = _metadata.MetadataDisplayer.with_model_file(tflite_model_path)\n",
    "\n",
    "json_file = displayer.get_metadata_json()\n",
    "# Optional: write out the metadata as a json file\n",
    "with open(export_json_file, \"w\") as f:\n",
    "  f.write(json_file)"
   ]
  },
  {
   "cell_type": "code",
   "execution_count": null,
   "id": "8224fe7c",
   "metadata": {},
   "outputs": [],
   "source": []
  }
 ],
 "metadata": {
  "kernelspec": {
   "display_name": "Python 3 (ipykernel)",
   "language": "python",
   "name": "python3"
  },
  "language_info": {
   "codemirror_mode": {
    "name": "ipython",
    "version": 3
   },
   "file_extension": ".py",
   "mimetype": "text/x-python",
   "name": "python",
   "nbconvert_exporter": "python",
   "pygments_lexer": "ipython3",
   "version": "3.9.13"
  }
 },
 "nbformat": 4,
 "nbformat_minor": 5
}
